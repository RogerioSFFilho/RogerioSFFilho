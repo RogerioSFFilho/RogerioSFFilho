{
  "nbformat": 4,
  "nbformat_minor": 0,
  "metadata": {
    "colab": {
      "provenance": [],
      "gpuType": "T4",
      "authorship_tag": "ABX9TyNoas/0r47TmlDsE5IPZK4o",
      "include_colab_link": true
    },
    "kernelspec": {
      "name": "python3",
      "display_name": "Python 3"
    },
    "language_info": {
      "name": "python"
    },
    "accelerator": "GPU"
  },
  "cells": [
    {
      "cell_type": "markdown",
      "metadata": {
        "id": "view-in-github",
        "colab_type": "text"
      },
      "source": [
        "<a href=\"https://colab.research.google.com/github/RogerioSFFilho/RogerioSFFilho/blob/main/Comparacao_Memoria.ipynb\" target=\"_parent\"><img src=\"https://colab.research.google.com/assets/colab-badge.svg\" alt=\"Open In Colab\"/></a>"
      ]
    },
    {
      "cell_type": "code",
      "source": [
        "!pip install memory_profiler"
      ],
      "metadata": {
        "colab": {
          "base_uri": "https://localhost:8080/"
        },
        "id": "AZ7D2mvBufPv",
        "outputId": "13e303cc-46df-4253-dd13-812ffb09522d"
      },
      "execution_count": 1,
      "outputs": [
        {
          "output_type": "stream",
          "name": "stdout",
          "text": [
            "Collecting memory_profiler\n",
            "  Downloading memory_profiler-0.61.0-py3-none-any.whl.metadata (20 kB)\n",
            "Requirement already satisfied: psutil in /usr/local/lib/python3.11/dist-packages (from memory_profiler) (5.9.5)\n",
            "Downloading memory_profiler-0.61.0-py3-none-any.whl (31 kB)\n",
            "Installing collected packages: memory_profiler\n",
            "Successfully installed memory_profiler-0.61.0\n"
          ]
        }
      ]
    },
    {
      "cell_type": "markdown",
      "source": [
        "**IMPORTANDO AS BIBLIOTECAS**"
      ],
      "metadata": {
        "id": "8ms7WP8Yujej"
      }
    },
    {
      "cell_type": "code",
      "source": [
        "import pandas as pd\n",
        "import polars as pl\n",
        "import duckdb\n",
        "import time\n",
        "import kagglehub\n",
        "import psutil\n",
        "import multiprocessing as mp\n",
        "from memory_profiler import memory_usage\n",
        "import os"
      ],
      "metadata": {
        "id": "IX_dh6CWumze"
      },
      "execution_count": 2,
      "outputs": []
    },
    {
      "cell_type": "code",
      "source": [
        "path = kagglehub.dataset_download(\"microize/newyork-yellow-taxi-trip-data-2020-2019\")\n",
        "LOCAL = f'{path}/yellow_tripdata_2020-04.csv'"
      ],
      "metadata": {
        "colab": {
          "base_uri": "https://localhost:8080/"
        },
        "id": "N0PBgmoYurL6",
        "outputId": "8ec36306-ec09-42ad-d17e-a149301d483a"
      },
      "execution_count": 3,
      "outputs": [
        {
          "output_type": "stream",
          "name": "stdout",
          "text": [
            "Downloading from https://www.kaggle.com/api/v1/datasets/download/microize/newyork-yellow-taxi-trip-data-2020-2019?dataset_version_number=25...\n"
          ]
        },
        {
          "output_type": "stream",
          "name": "stderr",
          "text": [
            "100%|██████████| 1.81G/1.81G [01:30<00:00, 21.4MB/s]"
          ]
        },
        {
          "output_type": "stream",
          "name": "stdout",
          "text": [
            "Extracting files...\n"
          ]
        },
        {
          "output_type": "stream",
          "name": "stderr",
          "text": [
            "\n"
          ]
        }
      ]
    },
    {
      "cell_type": "code",
      "source": [
        "def teste_pandas():\n",
        "    start_time = time.time()\n",
        "    df = pd.read_csv(LOCAL, parse_dates=['tpep_pickup_datetime'])\n",
        "    df = df[df['tip_amount'] > 0]\n",
        "    df['hour'] = df['tpep_pickup_datetime'].dt.hour\n",
        "    result = df.groupby('hour')['tip_amount'].mean().reset_index()\n",
        "    result.to_parquet(\"pandas.parquet\")\n",
        "    elapsed = time.time() - start_time\n",
        "    return result, elapsed\n",
        "\n",
        "def teste_polars():\n",
        "    start_time = time.time()\n",
        "\n",
        "    df = pl.read_csv(LOCAL)\n",
        "    df = df.with_columns(\n",
        "        pl.col('tpep_pickup_datetime').str.strptime(pl.Datetime, format=\"%Y-%m-%d %H:%M:%S\")\n",
        "    )\n",
        "    df = df.filter(pl.col('tip_amount') > 0)\n",
        "    df = df.with_columns(\n",
        "        pl.col('tpep_pickup_datetime').dt.hour().alias('hour')\n",
        "    )\n",
        "    result = df.group_by('hour').agg(\n",
        "        pl.col('tip_amount').mean().alias('mean_tip_amount')\n",
        "    )\n",
        "    result.write_parquet(\"polars_result.parquet\")\n",
        "\n",
        "    elapsed = time.time() - start_time\n",
        "    return result, elapsed\n",
        "\n",
        "def teste_duckdb():\n",
        "    start_time = time.time()\n",
        "\n",
        "    con = duckdb.connect()\n",
        "    query = f\"\"\"\n",
        "    SELECT EXTRACT('hour' FROM tpep_pickup_datetime) AS hour, AVG(tip_amount) AS mean_tip_amount\n",
        "    FROM read_csv_auto('{LOCAL}')\n",
        "    WHERE tip_amount > 0\n",
        "    GROUP BY hour\n",
        "    ORDER BY hour\n",
        "    \"\"\"\n",
        "    result = con.execute(query).df()\n",
        "    result.to_parquet(\"duckdb_result.parquet\")\n",
        "\n",
        "    elapsed = time.time() - start_time\n",
        "    return result, elapsed\n",
        "\n",
        "def run_with_memory(func, name):\n",
        "    mem_usage, result = memory_usage((func,), retval=True)\n",
        "    peak_mem = max(mem_usage)\n",
        "    return result[1], peak_mem"
      ],
      "metadata": {
        "id": "jJMmeDfGvKku"
      },
      "execution_count": 4,
      "outputs": []
    },
    {
      "cell_type": "code",
      "source": [
        "def medir_performance(func):\n",
        "    def wrapper(queue):\n",
        "        process = psutil.Process(os.getpid())\n",
        "        mem_inicio = process.memory_info().rss / (1024 ** 2)\n",
        "        tempo_inicio = time.time()\n",
        "\n",
        "        func()\n",
        "\n",
        "        tempo_fim = time.time()\n",
        "        mem_fim = process.memory_info().rss / (1024 ** 2)\n",
        "\n",
        "        tempo = tempo_fim - tempo_inicio\n",
        "        memoria = mem_fim - mem_inicio\n",
        "        queue.put((tempo, memoria))\n",
        "    return wrapper"
      ],
      "metadata": {
        "id": "S6OFAzYz_zf4"
      },
      "execution_count": 5,
      "outputs": []
    },
    {
      "cell_type": "code",
      "source": [
        "def executar_teste(nome, func):\n",
        "    queue = mp.Queue()\n",
        "    processo = mp.Process(target=medir_performance(func), args=(queue,))\n",
        "    processo.start()\n",
        "    processo.join()\n",
        "    return queue.get()"
      ],
      "metadata": {
        "id": "QvQfYY6Y_0eT"
      },
      "execution_count": 6,
      "outputs": []
    },
    {
      "cell_type": "code",
      "source": [
        "results = {}\n",
        "for name, func in [('Pandas', teste_pandas), ('Polars', teste_polars), ('DuckDB', teste_duckdb)]:\n",
        "    tempo, memoria = run_with_memory(func, name)\n",
        "    results[name] = {'tempo': tempo, 'memoria': memoria}"
      ],
      "metadata": {
        "colab": {
          "base_uri": "https://localhost:8080/"
        },
        "id": "LYcE3Mtvye9N",
        "outputId": "f56101ba-d3cb-4b52-b782-db0121b57766"
      },
      "execution_count": 7,
      "outputs": [
        {
          "output_type": "stream",
          "name": "stderr",
          "text": [
            "/tmp/ipython-input-4-366742511.py:3: DtypeWarning: Columns (6) have mixed types. Specify dtype option on import or set low_memory=False.\n",
            "  df = pd.read_csv(LOCAL, parse_dates=['tpep_pickup_datetime'])\n"
          ]
        }
      ]
    },
    {
      "cell_type": "code",
      "source": [
        "results"
      ],
      "metadata": {
        "colab": {
          "base_uri": "https://localhost:8080/"
        },
        "id": "ZNj6tDgUzUO0",
        "outputId": "efe0d684-f72f-4f40-e2de-ad90895979f1"
      },
      "execution_count": 8,
      "outputs": [
        {
          "output_type": "execute_result",
          "data": {
            "text/plain": [
              "{'Pandas': {'tempo': 0.849510908126831, 'memoria': 338.08984375},\n",
              " 'Polars': {'tempo': 0.7164881229400635, 'memoria': 359.7109375},\n",
              " 'DuckDB': {'tempo': 0.5268912315368652, 'memoria': 363.6875}}"
            ]
          },
          "metadata": {},
          "execution_count": 8
        }
      ]
    },
    {
      "cell_type": "code",
      "source": [
        "import pandas as pd\n",
        "\n",
        "# Transforma o dicionário em DataFrame\n",
        "benchmark_df = pd.DataFrame(results).T  # Transpõe para deixar as libs como linhas\n",
        "benchmark_df.reset_index(inplace=True)\n",
        "benchmark_df.rename(columns={'index': 'engine'}, inplace=True)"
      ],
      "metadata": {
        "id": "9xvVkah-z5Fu"
      },
      "execution_count": 9,
      "outputs": []
    },
    {
      "cell_type": "code",
      "source": [
        "import matplotlib.pyplot as plt\n",
        "\n",
        "# Define o tamanho da figura\n",
        "plt.figure(figsize=(10, 5))\n",
        "\n",
        "# Gráfico de Tempo\n",
        "plt.subplot(1, 2, 1)\n",
        "plt.bar(benchmark_df['engine'], benchmark_df['tempo'])\n",
        "plt.title('Tempo de Execução (segundos)')\n",
        "plt.ylabel('Segundos')\n",
        "plt.xlabel('Engine')\n",
        "\n",
        "# Gráfico de Memória\n",
        "plt.subplot(1, 2, 2)\n",
        "plt.bar(benchmark_df['engine'], benchmark_df['memoria'], color='orange')\n",
        "plt.title('Pico de Memória (MiB)')\n",
        "plt.ylabel('Memória (MiB)')\n",
        "plt.xlabel('Engine')\n",
        "\n",
        "# Layout bonitinho\n",
        "plt.tight_layout()\n",
        "plt.show()"
      ],
      "metadata": {
        "colab": {
          "base_uri": "https://localhost:8080/",
          "height": 507
        },
        "id": "9y8HDQPoz8Yp",
        "outputId": "66081196-a820-4f9a-86ae-b773f073dd3b"
      },
      "execution_count": 10,
      "outputs": [
        {
          "output_type": "display_data",
          "data": {
            "text/plain": [
              "<Figure size 1000x500 with 2 Axes>"
            ],
            "image/png": "[encoded data removed]"
          },
          "metadata": {}
        }
      ]
    }
  ]
}